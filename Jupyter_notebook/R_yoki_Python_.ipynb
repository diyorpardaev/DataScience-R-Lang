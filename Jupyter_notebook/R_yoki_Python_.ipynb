{
  "nbformat": 4,
  "nbformat_minor": 0,
  "metadata": {
    "colab": {
      "provenance": []
    },
    "kernelspec": {
      "name": "ir",
      "display_name": "R"
    },
    "language_info": {
      "name": "R"
    }
  },
  "cells": [
    {
      "cell_type": "markdown",
      "source": [
        "# R yoki Python"
      ],
      "metadata": {
        "id": "HUcetG6TuzrW"
      }
    },
    {
      "cell_type": "markdown",
      "source": [
        "# Nima uchun R ni tanlashingiz kerak?\n",
        "R - bu statistik hisoblash va grafikalar uchun maxsus yaratilgan ochiq kodli dasturlash tili.\n",
        "\n",
        "1992 yilda birinchi marta ishga tushirilgandan beri R ilmiy tadqiqotlar va akademiyalarda keng qo'llanildi. Bugungi kunda u an'anaviy ma'lumotlar tahlilida ham, biznes tahlilining tez rivojlanayotgan sohasida qo'llaniladigan eng mashhur tahlil vositalaridan biri bo'lib qolmoqda. U TIOBE indeksida va PYPL indeksida mos ravishda 11 va 7 o'rinlarni egallaydi.\n",
        "\n",
        "Statistikani hisobga olgan holda ishlab chiqilgan R bilan siz bir necha qator kodlar ichida murakkab funksiyalardan foydalanishingiz mumkin. Chiziqli modellashtirish, chiziqli bo'lmagan modellashtirish, tasniflash va klasterlash kabi barcha turdagi statistik testlar va modellar osongina mavjud va ulardan foydalanish oson.\n",
        "\n",
        "R taklif qiladigan keng imkoniyatlar asosan uning ulkan hamjamiyatiga bog'liq. U ma'lumotlar faniga oid paketlarning eng boy to'plamlaridan birini ishlab chiqdi. Ularning barchasi Comprehensive R Archive Network ( CRAN ) orqali mavjud .\n",
        "\n",
        "R-ni ayniqsa diqqatga sazovor qiladigan yana bir xususiyat - bu ma'lumotlarni vizualizatsiya qilish va interaktiv veb-ilovalarni yaratish uchun mavjud ramkalar bilan sifatli hisobotlarni yaratish qobiliyati. Shu ma'noda, R chiroyli grafikalar va vizualizatsiya qilish uchun eng yaxshi vosita hisoblanadi.\n",
        "\n",
        "Endi siz Python va R bilan bir oz ko'proq tanish bo'lganingiz uchun keling, ularning o'xshashliklari, kuchli va zaif tomonlarini baholash uchun ularni ma'lumotlar fanlari nuqtai nazaridan taqqoslaylik."
      ],
      "metadata": {
        "id": "6YZMrJwkuzuq"
      }
    },
    {
      "cell_type": "markdown",
      "source": [
        "# Maqsad\n",
        "\n",
        "Python va R turli maqsadlarda yaratilgan bo'lsa-da - Python umumiy maqsadli dasturlash tili va R statistik tahlil uchun - bugungi kunda ikkalasi ham har qanday ma'lumot faniga mos keladi. Biroq, Python R-ga qaraganda ko'p qirrali dasturlash tili hisoblanadi, chunki u dasturiy ta'minotni ishlab chiqish, veb-ishlab chiqish va o'yin kabi boshqa dasturiy ta'minot sohalarida ham juda mashhur.\n",
        "\n"
      ],
      "metadata": {
        "id": "QAvRchp0uzxy"
      }
    },
    {
      "cell_type": "markdown",
      "source": [
        "# Foydalanuvchilar turi\n",
        "Umumiy maqsadli dasturlash tili sifatida Python maʼlumotlar faniga kiruvchi dasturiy taʼminot ishlab chiquvchilari uchun standart tanlovdir. Bundan tashqari, Pythonning unumdorlikka e'tibor qaratilishi uni murakkab ilovalarni yaratish uchun qulayroq vositaga aylantiradi.\n",
        "\n",
        "Aksincha, R akademiyada va moliya va farmatsevtika kabi ayrim sohalarda keng qo'llaniladi. Bu dasturlash ko'nikmalari cheklangan statistik va tadqiqotchilar uchun mukammal tildir.\n",
        "\n",
        "Quyida siz R va Python-dagi eng mashhur ma'lumotlar fanlari kutubxonalarining ro'yxatini topishingiz mumkin.\n",
        "\n",
        "R paketlari:\n",
        "\n",
        "dplyr : Bu R uchun ma'lumotlarni manipulyatsiya qilish kutubxonasi.\n",
        "\n",
        "tidyr : ma'lumotlaringizni toza va tartibli qilishga yordam beradigan ajoyib paket.\n",
        "\n",
        "ggplot2 : ma'lumotlarni vizualizatsiya qilish uchun mukammal kutubxona.\n",
        "\n",
        "Shiny : Bu to'g'ridan-to'g'ri R-dan interaktiv veb-ilovalarni yaratish uchun ideal vositadir.\n",
        "\n",
        "Caret : R-da machine learning uchun eng muhim kutubxonalardan biri.\n",
        "\n",
        "Python paketlari:\n",
        "\n",
        "NumPy : ilmiy hisoblash uchun funksiyalarning katta to'plamini taqdim etadi.\n",
        "\n",
        "Pandas : ma'lumotlarni manipulyatsiya qilish uchun juda mos keladi.\n",
        "\n",
        "Matplotlib : ma'lumotlarni vizualizatsiya qilish uchun standart kutubxona.\n",
        "\n",
        "Scikit-learn : Python-dagi kutubxona bo'lib, u ko'plab machine learning algoritmlarini taqdim etadi.\n",
        "\n",
        "TensorFlow : chuqur o'rganish uchun keng qo'llaniladigan library hisoblanadi."
      ],
      "metadata": {
        "id": "2zuOK5Diuz0f"
      }
    },
    {
      "cell_type": "markdown",
      "source": [],
      "metadata": {
        "id": "cP2dnt4nuz3N"
      }
    },
    {
      "cell_type": "code",
      "source": [],
      "metadata": {
        "colab": {
          "base_uri": "https://localhost:8080/",
          "height": 106
        },
        "id": "IIa801AQxJ37",
        "outputId": "6beae7e0-365f-47e6-df50-a1be281c3e60"
      },
      "execution_count": 1,
      "outputs": [
        {
          "output_type": "error",
          "ename": "ERROR",
          "evalue": "Error in parse(text = x, srcfile = src): <text>:1:6: unexpected symbol\n1: !git init\n         ^\n",
          "traceback": [
            "Error in parse(text = x, srcfile = src): <text>:1:6: unexpected symbol\n1: !git init\n         ^\nTraceback:\n"
          ]
        }
      ]
    },
    {
      "cell_type": "markdown",
      "source": [],
      "metadata": {
        "id": "Yse4DfzgxJXI"
      }
    }
  ]
}